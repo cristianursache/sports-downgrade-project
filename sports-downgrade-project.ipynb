{
 "cells": [
  {
   "cell_type": "markdown",
   "id": "7fd22488",
   "metadata": {},
   "source": [
    "# Sports Downgrade Project\n",
    "\n",
    "## Reading the data\n",
    "\n",
    "We import some relevant packages:"
   ]
  },
  {
   "cell_type": "code",
   "execution_count": null,
   "id": "fce6bcae",
   "metadata": {},
   "outputs": [],
   "source": [
    "import pandas as pd\n",
    "import numpy as np\n",
    "import seaborn as sns\n",
    "import matplotlib.pyplot as plt\n",
    "from google.cloud import bigquery\n",
    "client = bigquery.Client()"
   ]
  },
  {
   "cell_type": "markdown",
   "id": "aac89d86",
   "metadata": {},
   "source": [
    "We convert the data to a pandas dataframe (where the dates in the \"DTV_Last_Activation_Dt\" and \"Sports_Last_Activation_Dt\" columns have been changed to reflect the number of weeks between the current date and the activation date):"
   ]
  },
  {
   "cell_type": "code",
   "execution_count": null,
   "id": "cb14d97f",
   "metadata": {},
   "outputs": [],
   "source": [
    "table = \"\"\"\n",
    "    SELECT\n",
    "        DATE_DIFF(CURRENT_DATE(), DTV_Last_Activation_Dt, week) AS DTV_Last_Activation_Dt,\n",
    "        DATE_DIFF(CURRENT_DATE(), Sports_Last_Activation_Dt, week) AS Sports_Last_Activation_Dt,\n",
    "        Offers_Applied_Ever_Sports,\n",
    "        h_age_coarse,\n",
    "        h_number_of_adults,\n",
    "        h_number_of_children_in_hh,\n",
    "        DTV_Product_Holding,\n",
    "        Curr_Offer_Amount_Sports,\n",
    "        Curr_Offer_Length_Sports,\n",
    "        Target_sports_downgrade\n",
    "    FROM\n",
    "        `sky-uk-ids-analytics-prod.NPR13.Grad_Example_Propensity_Mart_Sports_Downgrades`\n",
    "\"\"\"\n",
    "\n",
    "data = client.query(table).to_dataframe()"
   ]
  },
  {
   "cell_type": "markdown",
   "id": "25609b1a",
   "metadata": {},
   "source": [
    "Getting some information about the data:"
   ]
  },
  {
   "cell_type": "code",
   "execution_count": null,
   "id": "7ed46f0c",
   "metadata": {},
   "outputs": [],
   "source": [
    "data.head()"
   ]
  },
  {
   "cell_type": "code",
   "execution_count": null,
   "id": "e387d9b5",
   "metadata": {},
   "outputs": [],
   "source": [
    "data.info()"
   ]
  },
  {
   "cell_type": "markdown",
   "id": "aa818e71",
   "metadata": {},
   "source": [
    "We can see that there are many null values in the \"Curr_Offer_Amount_Sports\" and \"Curr_Offer_Length_Sports\" columns, which should be set to 0 by default. We address this:"
   ]
  },
  {
   "cell_type": "code",
   "execution_count": null,
   "id": "f71a8396",
   "metadata": {},
   "outputs": [],
   "source": [
    "data[\"Curr_Offer_Amount_Sports\"] = data[\"Curr_Offer_Amount_Sports\"].fillna(0)\n",
    "data[\"Curr_Offer_Length_Sports\"] = data[\"Curr_Offer_Length_Sports\"].fillna(\"0M\")"
   ]
  },
  {
   "cell_type": "markdown",
   "id": "bf74da3a",
   "metadata": {},
   "source": [
    "We change the datatype of the \"Curr_Offer_Length_Sports\" column from 'string' to 'float':"
   ]
  },
  {
   "cell_type": "code",
   "execution_count": null,
   "id": "31d0a109",
   "metadata": {},
   "outputs": [],
   "source": [
    "data[\"Curr_Offer_Length_Sports\"] = data[\"Curr_Offer_Length_Sports\"].map(lambda x: x.rstrip('M'))\n",
    "data[\"Curr_Offer_Length_Sports\"] = data[\"Curr_Offer_Length_Sports\"].astype('float64')"
   ]
  },
  {
   "cell_type": "markdown",
   "id": "3bf307ac",
   "metadata": {},
   "source": [
    "## Visualising the data\n",
    "\n",
    "### Numerical data"
   ]
  },
  {
   "cell_type": "code",
   "execution_count": null,
   "id": "d7e18e98",
   "metadata": {},
   "outputs": [],
   "source": [
    "data.hist(bins=30, figsize=(18, 15))"
   ]
  },
  {
   "cell_type": "markdown",
   "id": "b63b1573",
   "metadata": {},
   "source": [
    "We can see that the \"Curr_Offer_Length_Sports\" column appears to contain some outlier values."
   ]
  },
  {
   "cell_type": "code",
   "execution_count": null,
   "id": "7c21f6a5",
   "metadata": {},
   "outputs": [],
   "source": [
    "print(\"Skew = {}\".format(data[\"Curr_Offer_Length_Sports\"].skew()))\n",
    "data[\"Curr_Offer_Length_Sports\"].describe()"
   ]
  },
  {
   "cell_type": "markdown",
   "id": "2ada7369",
   "metadata": {},
   "source": [
    "We will use the IQR rule to detect the outliers and replace them with the median value:"
   ]
  },
  {
   "cell_type": "code",
   "execution_count": null,
   "id": "be8bf42d",
   "metadata": {},
   "outputs": [],
   "source": [
    "def outlier_detection(data, k=1.5):\n",
    "    Q1 = data.quantile(0.25)\n",
    "    Q3 = data.quantile(0.75)\n",
    "    IQR = Q3 - Q1\n",
    "    lower_range = Q1 - (k * IQR)\n",
    "    upper_range = Q3 + (k * IQR)\n",
    "    return lower_range, upper_range\n",
    "\n",
    "lower_range, upper_range = outlier_detection(data[\"Curr_Offer_Length_Sports\"])\n",
    "median = data[\"Curr_Offer_Length_Sports\"].median()\n",
    "mask = (data[\"Curr_Offer_Length_Sports\"] < lower_range) | (data[\"Curr_Offer_Length_Sports\"] > upper_range)\n",
    "data.loc[mask, \"Curr_Offer_Length_Sports\"] = median"
   ]
  },
  {
   "cell_type": "markdown",
   "id": "e86dc4b1",
   "metadata": {},
   "source": [
    "We now look at the new distribution of the \"Curr_Offer_Length_Sports\" column and confirm that there are no outlier values:"
   ]
  },
  {
   "cell_type": "code",
   "execution_count": null,
   "id": "8be4feef",
   "metadata": {},
   "outputs": [],
   "source": [
    "plt.figure(figsize=(12, 5))\n",
    "plt.subplot(1, 2, 1)\n",
    "data[\"Curr_Offer_Length_Sports\"].plot(kind=\"hist\", bins=15)\n",
    "plt.xlabel(\"Offer Length\")\n",
    "plt.title(\"Offer Length Distribution\")\n",
    "plt.grid()\n",
    "plt.subplot(1, 2, 2)\n",
    "data[\"Curr_Offer_Length_Sports\"].plot(kind=\"box\")\n",
    "plt.ylabel(\"Offer Length\")\n",
    "plt.title(\"Offer Length Range\")\n",
    "plt.show()"
   ]
  },
  {
   "cell_type": "markdown",
   "id": "a09130fa",
   "metadata": {},
   "source": [
    "We will now look at the correlation matrix of our dataset to see how different columns relate to each other:"
   ]
  },
  {
   "cell_type": "code",
   "execution_count": null,
   "id": "017c12f8",
   "metadata": {},
   "outputs": [],
   "source": [
    "corr_matrix = data.corr()\n",
    "\n",
    "plt.figure(figsize=(10, 6))\n",
    "sns.heatmap(corr_matrix, annot=True)\n",
    "plt.show()"
   ]
  },
  {
   "cell_type": "markdown",
   "id": "22cf9ce4",
   "metadata": {},
   "source": [
    "We explore the relationship between the \"Offers_Applied_Ever_Sports\", \"Current_Offer_Length_Sports\" and \"Current_Offer_Amount_Sports\" columns, which appear to be correlated to some extent."
   ]
  },
  {
   "cell_type": "code",
   "execution_count": null,
   "id": "4aebd3b8",
   "metadata": {},
   "outputs": [],
   "source": [
    "from pandas.plotting import scatter_matrix\n",
    "\n",
    "attribs = [\"Offers_Applied_Ever_Sports\", \"Curr_Offer_Length_Sports\", \"Curr_Offer_Amount_Sports\"]\n",
    "scatter_matrix(data[attribs], figsize=(12, 8))"
   ]
  },
  {
   "cell_type": "markdown",
   "id": "a52149cb",
   "metadata": {},
   "source": [
    "No apparent relationship can be derived from the scatterplots.\n",
    "\n",
    "Lastly, we look at some descriptive statistics for the numerical columns:"
   ]
  },
  {
   "cell_type": "code",
   "execution_count": null,
   "id": "2348c97e",
   "metadata": {},
   "outputs": [],
   "source": [
    "data.describe()"
   ]
  },
  {
   "cell_type": "markdown",
   "id": "c0faa208",
   "metadata": {},
   "source": [
    "We remark that we are dealing with a heavily imbalanced dataset (the average of \"Target_sports_downgrade\" column is roughly 0.0016 i.e. only 0.16% of the customers in the dataset downgraded)."
   ]
  },
  {
   "cell_type": "markdown",
   "id": "7e4a0611",
   "metadata": {},
   "source": [
    "### Categorical data\n",
    "\n",
    "We will split the data set into \"downgraders\" (rows that have Target_sports_downgrade = 1) and \"non-downgraders\" (rows that have Target_sports_downgrade = 0) and see how the two partitions compare across different categories."
   ]
  },
  {
   "cell_type": "code",
   "execution_count": null,
   "id": "2e132995",
   "metadata": {},
   "outputs": [],
   "source": [
    "downgraders = data[data[\"Target_sports_downgrade\"] == 1]\n",
    "non_downgraders = data[data[\"Target_sports_downgrade\"] == 0]"
   ]
  },
  {
   "cell_type": "code",
   "execution_count": null,
   "id": "aa97cd75",
   "metadata": {},
   "outputs": [],
   "source": [
    "data[\"DTV_Product_Holding\"].value_counts().plot(kind=\"bar\")\n",
    "plt.title(\"Customer Distribution per DTV Product\")\n",
    "plt.ylabel(\"Number of customers\")\n",
    "plt.grid()"
   ]
  },
  {
   "cell_type": "code",
   "execution_count": null,
   "id": "cda12889",
   "metadata": {},
   "outputs": [],
   "source": [
    "plt.figure(figsize=(15, 5))\n",
    "plt.subplot(1, 2, 1)\n",
    "non_downgraders[\"DTV_Product_Holding\"].value_counts().plot(kind=\"pie\", autopct='%1.1f%%')\n",
    "plt.title(\"Non-downgraders Distribution per DTV Product\")\n",
    "plt.subplot(1, 2, 2)\n",
    "downgraders[\"DTV_Product_Holding\"].value_counts().plot(kind=\"pie\", autopct='%1.1f%%')\n",
    "plt.title(\"Downgraders Distribution per DTV Product\")\n",
    "plt.show()"
   ]
  },
  {
   "cell_type": "code",
   "execution_count": null,
   "id": "2a61fa89",
   "metadata": {},
   "outputs": [],
   "source": [
    "avg_downgrades_prod_q = \"\"\"\n",
    "    SELECT\n",
    "        DTV_Product_Holding,\n",
    "        AVG(Target_sports_downgrade) AS avg_downgrades\n",
    "    FROM\n",
    "        `sky-uk-ids-analytics-prod.NPR13.Grad_Example_Propensity_Mart_Sports_Downgrades`\n",
    "    GROUP BY\n",
    "        DTV_Product_Holding\n",
    "    ORDER BY\n",
    "        avg_downgrades DESC;\n",
    "\"\"\"\n",
    "\n",
    "avg_downgrades_prod = client.query(avg_downgrades_prod_q).to_dataframe()"
   ]
  },
  {
   "cell_type": "code",
   "execution_count": null,
   "id": "e25430fe",
   "metadata": {},
   "outputs": [],
   "source": [
    "avg_downgrades_prod[\"avg_downgrades\"].plot(kind=\"bar\")\n",
    "plt.axhline(y=0.001636, color='r', linestyle='--', label=\"Average downgrade rate\")\n",
    "pos = np.arange(8)\n",
    "plt.xticks(pos, avg_downgrades_prod[\"DTV_Product_Holding\"])\n",
    "plt.title(\"Average Downgrade Rate per DTV Product\")\n",
    "plt.grid()"
   ]
  },
  {
   "cell_type": "code",
   "execution_count": null,
   "id": "ec79a413",
   "metadata": {},
   "outputs": [],
   "source": [
    "data[\"h_age_coarse\"].value_counts().plot(kind=\"bar\")\n",
    "plt.title(\"Customer Distribution per Age Level\")\n",
    "plt.ylabel(\"Number of customers\")\n",
    "plt.grid()"
   ]
  },
  {
   "cell_type": "code",
   "execution_count": null,
   "id": "1b4d94b9",
   "metadata": {},
   "outputs": [],
   "source": [
    "plt.figure(figsize=(12, 5))\n",
    "plt.subplot(1, 2, 1)\n",
    "(non_downgraders[\"h_age_coarse\"].value_counts() / non_downgraders.shape[0]).plot(kind=\"bar\")\n",
    "plt.grid()\n",
    "plt.title(\"Non-downgraders Distribution per Age Level\")\n",
    "plt.subplot(1, 2, 2)\n",
    "(downgraders[\"h_age_coarse\"].value_counts() / downgraders.shape[0]).plot(kind=\"bar\")\n",
    "plt.grid()\n",
    "plt.title(\"Downgraders Distribution per Age Level\")\n",
    "plt.show()"
   ]
  },
  {
   "cell_type": "code",
   "execution_count": null,
   "id": "b79496d2",
   "metadata": {},
   "outputs": [],
   "source": [
    "avg_downgrades_age_q = \"\"\"\n",
    "    SELECT\n",
    "        AVG(Target_sports_downgrade) AS avg_downgrades,\n",
    "        h_age_coarse\n",
    "    FROM\n",
    "        `sky-uk-ids-analytics-prod.NPR13.Grad_Example_Propensity_Mart_Sports_Downgrades`\n",
    "    GROUP BY\n",
    "        h_age_coarse\n",
    "    ORDER BY\n",
    "        avg_downgrades DESC\n",
    "\"\"\"\n",
    "\n",
    "avg_downgrades_age = client.query(avg_downgrades_age_q).to_dataframe()"
   ]
  },
  {
   "cell_type": "code",
   "execution_count": null,
   "id": "05cbb67b",
   "metadata": {},
   "outputs": [],
   "source": [
    "avg_downgrades_age[\"avg_downgrades\"].plot(kind=\"bar\")\n",
    "plt.axhline(y=0.001636, color='r', linestyle='--')\n",
    "pos = np.arange(7)\n",
    "plt.xticks(pos, avg_downgrades_age[\"h_age_coarse\"])\n",
    "plt.title(\"Average Downgrade Rate per Age Level\")\n",
    "plt.grid()"
   ]
  },
  {
   "cell_type": "markdown",
   "id": "2dedcfaa",
   "metadata": {},
   "source": [
    "## Pre-processing the data\n",
    "\n",
    "The columns \"Sports_Last_Activation_Dt\" and \"DTV_Last_Activation_Dt\" are highly corellated, so we drop the latter."
   ]
  },
  {
   "cell_type": "code",
   "execution_count": null,
   "id": "818c6323",
   "metadata": {},
   "outputs": [],
   "source": [
    "data = data.drop(\"DTV_Last_Activation_Dt\", axis=1)"
   ]
  },
  {
   "cell_type": "markdown",
   "id": "68361aa5",
   "metadata": {},
   "source": [
    "**OPTIONAL.** Binning the \"Sports_Last_Activation_Dt\" variable to improve modelling results:"
   ]
  },
  {
   "cell_type": "code",
   "execution_count": null,
   "id": "9db63d72",
   "metadata": {},
   "outputs": [],
   "source": [
    "x = data[\"Sports_Last_Activation_Dt\"].values\n",
    "y = data[\"Target_sports_downgrade\"].values"
   ]
  },
  {
   "cell_type": "code",
   "execution_count": null,
   "id": "846df373",
   "metadata": {},
   "outputs": [],
   "source": [
    "from optbinning import OptimalBinning\n",
    "\n",
    "optb = OptimalBinning(name=\"Sports_Last_Activation_Dt\")\n",
    "optb.fit(x, y)"
   ]
  },
  {
   "cell_type": "code",
   "execution_count": null,
   "id": "b72c1fad",
   "metadata": {},
   "outputs": [],
   "source": [
    "optb.binning_table.build()\n",
    "optb.binning_table.plot(metric=\"woe\", style=\"actual\", add_special=False, add_missing=False)"
   ]
  },
  {
   "cell_type": "code",
   "execution_count": null,
   "id": "290fa9cb",
   "metadata": {},
   "outputs": [],
   "source": [
    "x_transform_woe = optb.transform(x, metric=\"woe\")\n",
    "df = pd.DataFrame(x_transform_woe, columns=[\"Sports_Last_Activation_Dt_Binned\"])\n",
    "data[\"Sports_Last_Activation_Dt\"] = df[\"Sports_Last_Activation_Dt_Binned\"]"
   ]
  },
  {
   "cell_type": "markdown",
   "id": "4a6a2b66",
   "metadata": {},
   "source": [
    "We split the data into train and test sets:"
   ]
  },
  {
   "cell_type": "code",
   "execution_count": null,
   "id": "01ae6d16",
   "metadata": {},
   "outputs": [],
   "source": [
    "from sklearn.model_selection import train_test_split\n",
    "np.random.seed(42)\n",
    "\n",
    "train_set, test_set = train_test_split(data, test_size=0.2, stratify=data[\"Target_sports_downgrade\"], random_state=42)"
   ]
  },
  {
   "cell_type": "markdown",
   "id": "6526ff38",
   "metadata": {},
   "source": [
    "We drop the target variable from the train set:"
   ]
  },
  {
   "cell_type": "code",
   "execution_count": null,
   "id": "117d500b",
   "metadata": {},
   "outputs": [],
   "source": [
    "downgrades = train_set.drop(\"Target_sports_downgrade\", axis=1)\n",
    "downgrades_labels = train_set[\"Target_sports_downgrade\"].copy()"
   ]
  },
  {
   "cell_type": "markdown",
   "id": "e76b0b98",
   "metadata": {},
   "source": [
    "Since we are dealing with a heavily imbalanced dataset, we use a combination of oversampling and undersampling techniques to improve modelling results:"
   ]
  },
  {
   "cell_type": "code",
   "execution_count": null,
   "id": "7a06a2fe",
   "metadata": {},
   "outputs": [],
   "source": [
    "from imblearn.over_sampling import RandomOverSampler\n",
    "from imblearn.under_sampling import RandomUnderSampler\n",
    "from imblearn.pipeline import Pipeline\n",
    "\n",
    "over = RandomOverSampler(sampling_strategy=0.2)\n",
    "under = RandomUnderSampler(sampling_strategy=0.8)\n",
    "sampling_pipeline = Pipeline([(\"over_sampling\", over), (\"under_sampling\", under)])"
   ]
  },
  {
   "cell_type": "code",
   "execution_count": null,
   "id": "546e0bd7",
   "metadata": {},
   "outputs": [],
   "source": [
    "downgrades, downgrades_labels = sampling_pipeline.fit_resample(downgrades, downgrades_labels)"
   ]
  },
  {
   "cell_type": "markdown",
   "id": "320f7e75",
   "metadata": {},
   "source": [
    "We create a pipeline that prepares the data for modelling. We fill the missing values in the numerical fields with medians and scale the numerical variables and we encode categorical variables into numerical data:"
   ]
  },
  {
   "cell_type": "code",
   "execution_count": null,
   "id": "445735e8",
   "metadata": {},
   "outputs": [],
   "source": [
    "from sklearn.pipeline import Pipeline\n",
    "from sklearn.impute import SimpleImputer\n",
    "from sklearn.preprocessing import StandardScaler, OneHotEncoder\n",
    "from sklearn.compose import ColumnTransformer\n",
    "\n",
    "num_attribs = list(downgrades.select_dtypes(include=[np.number]))\n",
    "cat_attribs = [\"h_age_coarse\", \"DTV_Product_Holding\"]\n",
    "\n",
    "num_pipeline = Pipeline([(\"imputer\", SimpleImputer(strategy=\"median\")),\n",
    "                         (\"std_scaler\", StandardScaler())])\n",
    "\n",
    "full_pipeline = ColumnTransformer([(\"num\", num_pipeline, num_attribs),\n",
    "                                   (\"cat\", OneHotEncoder(), cat_attribs)])"
   ]
  },
  {
   "cell_type": "code",
   "execution_count": null,
   "id": "d1fca27c",
   "metadata": {},
   "outputs": [],
   "source": [
    "downgrades_prepared = full_pipeline.fit_transform(downgrades)"
   ]
  },
  {
   "cell_type": "code",
   "execution_count": null,
   "id": "6a0d585c",
   "metadata": {},
   "outputs": [],
   "source": [
    "downgrades_prepared.shape"
   ]
  },
  {
   "cell_type": "markdown",
   "id": "d551be13",
   "metadata": {},
   "source": [
    "## Modelling the data\n",
    "\n",
    "We prepare the test data to measure the performance of our models:"
   ]
  },
  {
   "cell_type": "code",
   "execution_count": null,
   "id": "e3436d6a",
   "metadata": {},
   "outputs": [],
   "source": [
    "from sklearn.metrics import roc_auc_score, plot_roc_curve\n",
    "from sklearn.inspection import permutation_importance\n",
    "\n",
    "X_test = test_set.drop(\"Target_sports_downgrade\", axis=1)\n",
    "X_test_prepared = full_pipeline.transform(X_test)\n",
    "y_test = test_set[\"Target_sports_downgrade\"].copy()"
   ]
  },
  {
   "cell_type": "markdown",
   "id": "0775e7ba",
   "metadata": {},
   "source": [
    "### Logistic Regression"
   ]
  },
  {
   "cell_type": "code",
   "execution_count": null,
   "id": "c47d1a2f",
   "metadata": {},
   "outputs": [],
   "source": [
    "from sklearn.linear_model import LogisticRegression\n",
    "\n",
    "log_reg = LogisticRegression(C=0.01, penalty=\"l1\", solver=\"liblinear\", max_iter=200)\n",
    "log_reg.fit(downgrades_prepared, downgrades_labels)\n",
    "pred_log_reg = log_reg.predict_proba(X_test_prepared)\n",
    "print(\"AUC = {}\".format(roc_auc_score(y_test, pred_log_reg[:, 1])))"
   ]
  },
  {
   "cell_type": "code",
   "execution_count": null,
   "id": "ec73e952",
   "metadata": {},
   "outputs": [],
   "source": [
    "coef = log_reg.coef_[0]\n",
    "\n",
    "results_log_reg = permutation_importance(log_reg, X_test_prepared, y_test, scoring=\"roc_auc\")\n",
    "importance_log_reg = results_log_reg.importances_mean"
   ]
  },
  {
   "cell_type": "markdown",
   "id": "97a1b760",
   "metadata": {},
   "source": [
    "### Decision Tree Classifier"
   ]
  },
  {
   "cell_type": "code",
   "execution_count": null,
   "id": "abaabc3d",
   "metadata": {},
   "outputs": [],
   "source": [
    "from sklearn.tree import DecisionTreeClassifier\n",
    "\n",
    "dec_tree = DecisionTreeClassifier(max_depth=6)\n",
    "dec_tree.fit(downgrades_prepared, downgrades_labels)\n",
    "pred_dec_tree = dec_tree.predict_proba(X_test_prepared)\n",
    "print(\"AUC = {}\".format(roc_auc_score(y_test, pred_dec_tree[:, 1])))"
   ]
  },
  {
   "cell_type": "code",
   "execution_count": null,
   "id": "1a1fa078",
   "metadata": {},
   "outputs": [],
   "source": [
    "feature_imp_dec_tree = dec_tree.feature_importances_\n",
    "\n",
    "results_dec_tree = permutation_importance(dec_tree, X_test_prepared, y_test, scoring=\"roc_auc\")\n",
    "importance_dec_tree = results_dec_tree.importances_mean"
   ]
  },
  {
   "cell_type": "markdown",
   "id": "80ded8bc",
   "metadata": {},
   "source": [
    "### Random Forest Classifier"
   ]
  },
  {
   "cell_type": "code",
   "execution_count": null,
   "id": "10e5f86b",
   "metadata": {},
   "outputs": [],
   "source": [
    "from sklearn.ensemble import RandomForestClassifier\n",
    "\n",
    "rand_for = RandomForestClassifier(n_jobs=-1, max_depth=6, n_estimators=200)\n",
    "rand_for.fit(downgrades_prepared, downgrades_labels)\n",
    "pred_rand_for = rand_for.predict_proba(X_test_prepared)\n",
    "print(\"AUC = {}\".format(roc_auc_score(y_test, pred_rand_for[:, 1])))"
   ]
  },
  {
   "cell_type": "code",
   "execution_count": null,
   "id": "27fee46b",
   "metadata": {},
   "outputs": [],
   "source": [
    "feature_imp_rand_for = rand_for.feature_importances_\n",
    "\n",
    "results_rand_for = permutation_importance(rand_for, X_test_prepared, y_test, scoring=\"roc_auc\")\n",
    "importance_rand_for = results_rand_for.importances_mean"
   ]
  },
  {
   "cell_type": "markdown",
   "id": "b5932c7f",
   "metadata": {},
   "source": [
    "### Comparing the models\n",
    "\n",
    "ROC curves:"
   ]
  },
  {
   "cell_type": "code",
   "execution_count": null,
   "id": "ce32a920",
   "metadata": {},
   "outputs": [],
   "source": [
    "classifiers = [log_reg, dec_tree, rand_for]\n",
    "\n",
    "ax = plt.gca()\n",
    "for classifier in classifiers:\n",
    "    plot_roc_curve(classifier, X_test_prepared, y_test, ax=ax)"
   ]
  },
  {
   "cell_type": "markdown",
   "id": "a7e91669",
   "metadata": {},
   "source": [
    "Lift on first decile:"
   ]
  },
  {
   "cell_type": "code",
   "execution_count": null,
   "id": "3715c197",
   "metadata": {},
   "outputs": [],
   "source": [
    "def sorted_ind(y_proba):\n",
    "    y_proba_sorted_ind = sorted(range(len(y_proba)), key=lambda k: y_proba[k])\n",
    "    return y_proba_sorted_ind[::-1]\n",
    "\n",
    "def first_decile_recall(y_test, y_proba_sorted_ind):\n",
    "    s = 0\n",
    "    for i in range(int(len(y_test) / 10)):\n",
    "        s += y_test.iloc[y_proba_sorted_ind[i]]\n",
    "    return s / int(len(y_test) / 10)"
   ]
  },
  {
   "cell_type": "code",
   "execution_count": null,
   "id": "b9cd6a11",
   "metadata": {},
   "outputs": [],
   "source": [
    "log_reg_proba = pred_log_reg[:, 1]\n",
    "log_reg_proba_sorted_ind = sorted_ind(log_reg_proba)\n",
    "dec_tree_proba = pred_dec_tree[:, 1]\n",
    "dec_tree_proba_sorted_ind = sorted_ind(dec_tree_proba)\n",
    "rand_for_proba = pred_rand_for[:, 1]\n",
    "rand_for_proba_sorted_ind = sorted_ind(rand_for_proba)\n",
    "base_rate = sum(y_test) / len(y_test)\n",
    "print(\"Base rate for test dataset: {}%\".format(base_rate))\n",
    "print(\"First decile lift Logistic Regression:\" \n",
    "      + \" {}\".format(first_decile_recall(y_test, log_reg_proba_sorted_ind) / base_rate))\n",
    "print(\"First decile lift Decision Tree:\"\n",
    "     + \" {}.\".format(first_decile_recall(y_test, dec_tree_proba_sorted_ind) / base_rate))\n",
    "print(\"First decile lift Random Forest:\"\n",
    "     + \" {}\".format(first_decile_recall(y_test, rand_for_proba_sorted_ind) / base_rate))"
   ]
  },
  {
   "cell_type": "markdown",
   "id": "845cac95",
   "metadata": {},
   "source": [
    "**NOTE.** Better results can be obtained if the oversampling/undersampling pipeline is not used for the train data."
   ]
  },
  {
   "cell_type": "markdown",
   "id": "79cd290c",
   "metadata": {},
   "source": [
    "Feature importance:"
   ]
  },
  {
   "cell_type": "code",
   "execution_count": null,
   "id": "ed5ddf00",
   "metadata": {},
   "outputs": [],
   "source": [
    "labels = np.concatenate([num_attribs, full_pipeline.named_transformers_[\"cat\"].get_feature_names(cat_attribs)])\n",
    "for ind, label in enumerate(labels):\n",
    "    print(\"Feature #{}: {}\".format(ind, label))"
   ]
  },
  {
   "cell_type": "code",
   "execution_count": null,
   "id": "0a037b57",
   "metadata": {},
   "outputs": [],
   "source": [
    "plt.figure(figsize=(13, 3))\n",
    "plt.subplot(1, 3, 1)\n",
    "plt.bar([_ for _ in range(len(coef))], coef)\n",
    "plt.grid()\n",
    "plt.title(\"Logistic Regression Feature Coefficients\")\n",
    "plt.subplot(1, 3, 2)\n",
    "plt.bar([_ for _ in range(len(feature_imp_dec_tree))], feature_imp_dec_tree)\n",
    "plt.grid()\n",
    "plt.title(\"Decision Tree Feature Importance\")\n",
    "plt.subplot(1, 3, 3)\n",
    "plt.bar([_ for _ in range(len(feature_imp_rand_for))], feature_imp_rand_for)\n",
    "plt.grid()\n",
    "plt.title(\"Random Forest Feature Importance\")\n",
    "plt.show()"
   ]
  },
  {
   "cell_type": "code",
   "execution_count": null,
   "id": "913b069f",
   "metadata": {},
   "outputs": [],
   "source": [
    "plt.figure(figsize=(13, 3))\n",
    "plt.subplot(1, 3, 1)\n",
    "plt.bar([_ for _ in range(len(importance_log_reg))], importance_log_reg)\n",
    "plt.grid()\n",
    "plt.title(\"Logistic Regression Permutation Importance\")\n",
    "plt.subplot(1, 3, 2)\n",
    "plt.bar([_ for _ in range(len(importance_dec_tree))], importance_dec_tree)\n",
    "plt.grid()\n",
    "plt.title(\"Decision Tree Permutation Importance\")\n",
    "plt.subplot(1, 3, 3)\n",
    "plt.bar([_ for _ in range(len(importance_rand_for))], importance_rand_for)\n",
    "plt.grid()\n",
    "plt.title(\"Random Forest Permutation Importance\")\n",
    "plt.show()"
   ]
  },
  {
   "cell_type": "markdown",
   "id": "0ac69065",
   "metadata": {},
   "source": [
    "Inspecting all these charts, we can see that across all of the 3 models, the most important features are \"Sports_Last_Activation_Dt\", \"Curr_Offer_Length_Sports\" and \"DTV_Product_Holding_Sky Entertainment\"."
   ]
  },
  {
   "cell_type": "markdown",
   "id": "03c1864d",
   "metadata": {},
   "source": [
    "## --- DRAFT ---\n",
    "\n",
    "Grid search for hyperparameters (with CV):"
   ]
  },
  {
   "cell_type": "code",
   "execution_count": null,
   "id": "d19cd9a7",
   "metadata": {},
   "outputs": [],
   "source": [
    "from sklearn.model_selection import RepeatedStratifiedKFold, GridSearchCV\n",
    "\n",
    "model = LogisticRegression()\n",
    "solvers = [\"liblinear\"]\n",
    "penalty = [\"l2\", \"l1\"]\n",
    "c_values = [10, 1, 0.1, 0.01]"
   ]
  },
  {
   "cell_type": "code",
   "execution_count": null,
   "id": "8d546bf8",
   "metadata": {},
   "outputs": [],
   "source": [
    "grid = dict(solver=solvers, penalty=penalty, C=c_values)\n",
    "cv = RepeatedStratifiedKFold(n_splits=10, n_repeats=3, random_state=42)\n",
    "grid_search = GridSearchCV(estimator=model, param_grid=grid, n_jobs=-1, cv=cv, scoring=\"roc_auc\", error_score=0)"
   ]
  },
  {
   "cell_type": "code",
   "execution_count": null,
   "id": "016158d5",
   "metadata": {},
   "outputs": [],
   "source": [
    "grid_result = grid_search.fit(downgrades_prepared, downgrades_labels)"
   ]
  },
  {
   "cell_type": "code",
   "execution_count": null,
   "id": "01f79405",
   "metadata": {},
   "outputs": [],
   "source": [
    "print(\"Best: {} using {}\".format(grid_result.best_score_, grid_result.best_params_))"
   ]
  },
  {
   "cell_type": "code",
   "execution_count": null,
   "id": "96f8963b",
   "metadata": {},
   "outputs": [],
   "source": [
    "model = RandomForestClassifier()\n",
    "n_estimators = [50, 100, 200]\n",
    "max_depth = [4, 5, 6, 10]"
   ]
  },
  {
   "cell_type": "code",
   "execution_count": null,
   "id": "ce1e9772",
   "metadata": {},
   "outputs": [],
   "source": [
    "grid = dict(n_estimators=n_estimators, max_depth=max_depth)\n",
    "cv = RepeatedStratifiedKFold(n_splits=10, n_repeats=3, random_state=42)\n",
    "grid_search = GridSearchCV(estimator=model, param_grid=grid, n_jobs=-1, cv=cv, scoring=\"roc_auc\", error_score=0)"
   ]
  },
  {
   "cell_type": "code",
   "execution_count": null,
   "id": "214fa222",
   "metadata": {},
   "outputs": [],
   "source": [
    "grid_result = grid_search.fit(downgrades_prepared, downgrades_labels)"
   ]
  },
  {
   "cell_type": "code",
   "execution_count": null,
   "id": "0f34a9d4",
   "metadata": {},
   "outputs": [],
   "source": [
    "print(\"Best: {} using {}\".format(grid_result.best_score_, grid_result.best_params_))"
   ]
  },
  {
   "cell_type": "markdown",
   "id": "5a17c2ad",
   "metadata": {},
   "source": [
    "Recursive feature elimination (with CV):"
   ]
  },
  {
   "cell_type": "code",
   "execution_count": null,
   "id": "0a4525cb",
   "metadata": {},
   "outputs": [],
   "source": [
    "from sklearn.feature_selection import RFECV\n",
    "\n",
    "selector = RFECV(log_reg, step=1)\n",
    "selector = selector.fit(downgrades_prepared, downgrades_labels)"
   ]
  },
  {
   "cell_type": "code",
   "execution_count": null,
   "id": "0df2ec82",
   "metadata": {},
   "outputs": [],
   "source": [
    "selector.ranking_"
   ]
  },
  {
   "cell_type": "code",
   "execution_count": null,
   "id": "4333b3ef",
   "metadata": {},
   "outputs": [],
   "source": [
    "new_X_train = downgrades_prepared[:, selector.support_]\n",
    "new_X_test = X_test_prepared[:, selector.support_]"
   ]
  },
  {
   "cell_type": "code",
   "execution_count": null,
   "id": "9f344943",
   "metadata": {},
   "outputs": [],
   "source": [
    "log_reg_upd = LogisticRegression(C=0.01, penalty=\"l1\", solver=\"liblinear\", max_iter=200)\n",
    "log_reg_upd.fit(new_X_train, downgrades_labels)\n",
    "pred_log_reg_upd = log_reg_upd.predict_proba(new_X_test)\n",
    "print(\"AUC = {}\".format(roc_auc_score(y_test, pred_log_reg_upd[:, 1])))"
   ]
  },
  {
   "cell_type": "code",
   "execution_count": null,
   "id": "333e4116",
   "metadata": {},
   "outputs": [],
   "source": []
  }
 ],
 "metadata": {
  "environment": {
   "name": "common-cpu.m75",
   "type": "gcloud",
   "uri": "gcr.io/deeplearning-platform-release/base-cpu:m75"
  },
  "kernelspec": {
   "display_name": "Python 3",
   "language": "python",
   "name": "python3"
  },
  "language_info": {
   "codemirror_mode": {
    "name": "ipython",
    "version": 3
   },
   "file_extension": ".py",
   "mimetype": "text/x-python",
   "name": "python",
   "nbconvert_exporter": "python",
   "pygments_lexer": "ipython3",
   "version": "3.7.10"
  }
 },
 "nbformat": 4,
 "nbformat_minor": 5
}
